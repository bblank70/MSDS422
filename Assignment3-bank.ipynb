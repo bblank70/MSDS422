{
 "metadata": {
  "language_info": {
   "codemirror_mode": {
    "name": "ipython",
    "version": 3
   },
   "file_extension": ".py",
   "mimetype": "text/x-python",
   "name": "python",
   "nbconvert_exporter": "python",
   "pygments_lexer": "ipython3",
   "version": "3.7.9-final"
  },
  "orig_nbformat": 2,
  "kernelspec": {
   "name": "python3",
   "display_name": "Python 3",
   "language": "python"
  }
 },
 "nbformat": 4,
 "nbformat_minor": 2,
 "cells": [
  {
   "source": [
    "# Assignment 3: Evaluating Classification Models"
   ],
   "cell_type": "markdown",
   "metadata": {}
  },
  {
   "source": [
    "#  Deilverables and Definition"
   ],
   "cell_type": "markdown",
   "metadata": {}
  },
  {
   "source": [
    "# A.  Library and data import"
   ],
   "cell_type": "markdown",
   "metadata": {}
  },
  {
   "cell_type": "code",
   "execution_count": 1,
   "metadata": {},
   "outputs": [
    {
     "output_type": "display_data",
     "data": {
      "text/plain": "(4521, 17)"
     },
     "metadata": {}
    },
    {
     "output_type": "display_data",
     "data": {
      "text/plain": "   age          job  marital  education default  balance housing loan  \\\n0   30   unemployed  married    primary      no     1787      no   no   \n1   33     services  married  secondary      no     4789     yes  yes   \n2   35   management   single   tertiary      no     1350     yes   no   \n3   30   management  married   tertiary      no     1476     yes  yes   \n4   59  blue-collar  married  secondary      no        0     yes   no   \n\n    contact  day month  duration  campaign  pdays  previous poutcome response  \n0  cellular   19   oct        79         1     -1         0  unknown       no  \n1  cellular   11   may       220         1    339         4  failure       no  \n2  cellular   16   apr       185         1    330         1  failure       no  \n3   unknown    3   jun       199         4     -1         0  unknown       no  \n4   unknown    5   may       226         1     -1         0  unknown       no  ",
      "text/html": "<div>\n<style scoped>\n    .dataframe tbody tr th:only-of-type {\n        vertical-align: middle;\n    }\n\n    .dataframe tbody tr th {\n        vertical-align: top;\n    }\n\n    .dataframe thead th {\n        text-align: right;\n    }\n</style>\n<table border=\"1\" class=\"dataframe\">\n  <thead>\n    <tr style=\"text-align: right;\">\n      <th></th>\n      <th>age</th>\n      <th>job</th>\n      <th>marital</th>\n      <th>education</th>\n      <th>default</th>\n      <th>balance</th>\n      <th>housing</th>\n      <th>loan</th>\n      <th>contact</th>\n      <th>day</th>\n      <th>month</th>\n      <th>duration</th>\n      <th>campaign</th>\n      <th>pdays</th>\n      <th>previous</th>\n      <th>poutcome</th>\n      <th>response</th>\n    </tr>\n  </thead>\n  <tbody>\n    <tr>\n      <th>0</th>\n      <td>30</td>\n      <td>unemployed</td>\n      <td>married</td>\n      <td>primary</td>\n      <td>no</td>\n      <td>1787</td>\n      <td>no</td>\n      <td>no</td>\n      <td>cellular</td>\n      <td>19</td>\n      <td>oct</td>\n      <td>79</td>\n      <td>1</td>\n      <td>-1</td>\n      <td>0</td>\n      <td>unknown</td>\n      <td>no</td>\n    </tr>\n    <tr>\n      <th>1</th>\n      <td>33</td>\n      <td>services</td>\n      <td>married</td>\n      <td>secondary</td>\n      <td>no</td>\n      <td>4789</td>\n      <td>yes</td>\n      <td>yes</td>\n      <td>cellular</td>\n      <td>11</td>\n      <td>may</td>\n      <td>220</td>\n      <td>1</td>\n      <td>339</td>\n      <td>4</td>\n      <td>failure</td>\n      <td>no</td>\n    </tr>\n    <tr>\n      <th>2</th>\n      <td>35</td>\n      <td>management</td>\n      <td>single</td>\n      <td>tertiary</td>\n      <td>no</td>\n      <td>1350</td>\n      <td>yes</td>\n      <td>no</td>\n      <td>cellular</td>\n      <td>16</td>\n      <td>apr</td>\n      <td>185</td>\n      <td>1</td>\n      <td>330</td>\n      <td>1</td>\n      <td>failure</td>\n      <td>no</td>\n    </tr>\n    <tr>\n      <th>3</th>\n      <td>30</td>\n      <td>management</td>\n      <td>married</td>\n      <td>tertiary</td>\n      <td>no</td>\n      <td>1476</td>\n      <td>yes</td>\n      <td>yes</td>\n      <td>unknown</td>\n      <td>3</td>\n      <td>jun</td>\n      <td>199</td>\n      <td>4</td>\n      <td>-1</td>\n      <td>0</td>\n      <td>unknown</td>\n      <td>no</td>\n    </tr>\n    <tr>\n      <th>4</th>\n      <td>59</td>\n      <td>blue-collar</td>\n      <td>married</td>\n      <td>secondary</td>\n      <td>no</td>\n      <td>0</td>\n      <td>yes</td>\n      <td>no</td>\n      <td>unknown</td>\n      <td>5</td>\n      <td>may</td>\n      <td>226</td>\n      <td>1</td>\n      <td>-1</td>\n      <td>0</td>\n      <td>unknown</td>\n      <td>no</td>\n    </tr>\n  </tbody>\n</table>\n</div>"
     },
     "metadata": {}
    }
   ],
   "source": [
    "import numpy as np\n",
    "import pandas as pd\n",
    "from math import sqrt  # for root mean-squared error calculation\n",
    "\n",
    "#diplay and plotting\n",
    "import seaborn as sns\n",
    "from IPython.display import display\n",
    "import matplotlib.pyplot as plt\n",
    "import matplotlib as mpl\n",
    "from matplotlib import cm\n",
    "\n",
    "#import from SKlearn\n",
    "import sklearn.linear_model \n",
    "from sklearn.linear_model import LinearRegression, Ridge, Lasso, ElasticNet\n",
    "from sklearn.metrics import mean_squared_error, r2_score  \n",
    "from sklearn.preprocessing import StandardScaler\n",
    "from sklearn.preprocessing import MinMaxScaler\n",
    "from sklearn.model_selection import train_test_split\n",
    "from sklearn.model_selection import KFold\n",
    "from sklearn.model_selection import cross_val_score\n",
    "from sklearn.model_selection import cross_val_predict\n",
    "import sklearn.metrics as metrics\n",
    "from sklearn.pipeline import Pipeline\n",
    "\n",
    "from scipy import stats\n",
    "\n",
    "imported_data = pd.read_csv('C:/Users/bblank/Documents/Northwestern MSDS/datasets/bank.csv', sep=';')\n",
    "imported_data.dropna() \n",
    "display(imported_data.shape)\n",
    "imported_data.describe()\n",
    "display(imported_data.head())"
   ]
  },
  {
   "cell_type": "code",
   "execution_count": 2,
   "metadata": {},
   "outputs": [
    {
     "output_type": "display_data",
     "data": {
      "text/plain": "   age          job  marital  education  default  balance  housing  loan  \\\n0   30   unemployed  married    primary        0     1787        0     0   \n1   33     services  married  secondary        0     4789        1     1   \n2   35   management   single   tertiary        0     1350        1     0   \n3   30   management  married   tertiary        0     1476        1     1   \n4   59  blue-collar  married  secondary        0        0        1     0   \n\n    contact  day month  duration  campaign  pdays  previous poutcome  response  \n0  cellular   19   oct        79         1     -1         0  unknown         0  \n1  cellular   11   may       220         1    339         4  failure         0  \n2  cellular   16   apr       185         1    330         1  failure         0  \n3   unknown    3   jun       199         4     -1         0  unknown         0  \n4   unknown    5   may       226         1     -1         0  unknown         0  ",
      "text/html": "<div>\n<style scoped>\n    .dataframe tbody tr th:only-of-type {\n        vertical-align: middle;\n    }\n\n    .dataframe tbody tr th {\n        vertical-align: top;\n    }\n\n    .dataframe thead th {\n        text-align: right;\n    }\n</style>\n<table border=\"1\" class=\"dataframe\">\n  <thead>\n    <tr style=\"text-align: right;\">\n      <th></th>\n      <th>age</th>\n      <th>job</th>\n      <th>marital</th>\n      <th>education</th>\n      <th>default</th>\n      <th>balance</th>\n      <th>housing</th>\n      <th>loan</th>\n      <th>contact</th>\n      <th>day</th>\n      <th>month</th>\n      <th>duration</th>\n      <th>campaign</th>\n      <th>pdays</th>\n      <th>previous</th>\n      <th>poutcome</th>\n      <th>response</th>\n    </tr>\n  </thead>\n  <tbody>\n    <tr>\n      <th>0</th>\n      <td>30</td>\n      <td>unemployed</td>\n      <td>married</td>\n      <td>primary</td>\n      <td>0</td>\n      <td>1787</td>\n      <td>0</td>\n      <td>0</td>\n      <td>cellular</td>\n      <td>19</td>\n      <td>oct</td>\n      <td>79</td>\n      <td>1</td>\n      <td>-1</td>\n      <td>0</td>\n      <td>unknown</td>\n      <td>0</td>\n    </tr>\n    <tr>\n      <th>1</th>\n      <td>33</td>\n      <td>services</td>\n      <td>married</td>\n      <td>secondary</td>\n      <td>0</td>\n      <td>4789</td>\n      <td>1</td>\n      <td>1</td>\n      <td>cellular</td>\n      <td>11</td>\n      <td>may</td>\n      <td>220</td>\n      <td>1</td>\n      <td>339</td>\n      <td>4</td>\n      <td>failure</td>\n      <td>0</td>\n    </tr>\n    <tr>\n      <th>2</th>\n      <td>35</td>\n      <td>management</td>\n      <td>single</td>\n      <td>tertiary</td>\n      <td>0</td>\n      <td>1350</td>\n      <td>1</td>\n      <td>0</td>\n      <td>cellular</td>\n      <td>16</td>\n      <td>apr</td>\n      <td>185</td>\n      <td>1</td>\n      <td>330</td>\n      <td>1</td>\n      <td>failure</td>\n      <td>0</td>\n    </tr>\n    <tr>\n      <th>3</th>\n      <td>30</td>\n      <td>management</td>\n      <td>married</td>\n      <td>tertiary</td>\n      <td>0</td>\n      <td>1476</td>\n      <td>1</td>\n      <td>1</td>\n      <td>unknown</td>\n      <td>3</td>\n      <td>jun</td>\n      <td>199</td>\n      <td>4</td>\n      <td>-1</td>\n      <td>0</td>\n      <td>unknown</td>\n      <td>0</td>\n    </tr>\n    <tr>\n      <th>4</th>\n      <td>59</td>\n      <td>blue-collar</td>\n      <td>married</td>\n      <td>secondary</td>\n      <td>0</td>\n      <td>0</td>\n      <td>1</td>\n      <td>0</td>\n      <td>unknown</td>\n      <td>5</td>\n      <td>may</td>\n      <td>226</td>\n      <td>1</td>\n      <td>-1</td>\n      <td>0</td>\n      <td>unknown</td>\n      <td>0</td>\n    </tr>\n  </tbody>\n</table>\n</div>"
     },
     "metadata": {}
    }
   ],
   "source": [
    "#convert columns from y/n to 1/9\n",
    "convert_to_binary = {'no' : 0, 'yes' : 1}\n",
    "\n",
    "# define binary variable for having credit in default\n",
    "default = imported_data['default'].map(convert_to_binary)\n",
    "imported_data['default'] = default\n",
    "# define binary variable for having a mortgage or housing loan\n",
    "housing = imported_data['housing'].map(convert_to_binary)\n",
    "imported_data['housing'] = housing\n",
    "# define binary variable for having a personal loan\n",
    "loan = imported_data['loan'].map(convert_to_binary)\n",
    "imported_data['loan'] = loan\n",
    "# define response variable to use in the model\n",
    "response = imported_data['response'].map(convert_to_binary)\n",
    "imported_data['response'] = response\n",
    "\n",
    "display(imported_data.head())\n"
   ]
  },
  {
   "cell_type": "code",
   "execution_count": 3,
   "metadata": {},
   "outputs": [
    {
     "output_type": "display_data",
     "data": {
      "text/plain": "unknown    3705\nfailure     490\nother       197\nsuccess     129\nName: poutcome, dtype: int64"
     },
     "metadata": {}
    },
    {
     "output_type": "display_data",
     "data": {
      "text/plain": "cellular     2896\nunknown      1324\ntelephone     301\nName: contact, dtype: int64"
     },
     "metadata": {}
    },
    {
     "output_type": "display_data",
     "data": {
      "text/plain": "secondary    2306\ntertiary     1350\nprimary       678\nunknown       187\nName: education, dtype: int64"
     },
     "metadata": {}
    },
    {
     "output_type": "display_data",
     "data": {
      "text/plain": "management       969\nblue-collar      946\ntechnician       768\nadmin.           478\nservices         417\nretired          230\nself-employed    183\nentrepreneur     168\nunemployed       128\nhousemaid        112\nstudent           84\nunknown           38\nName: job, dtype: int64"
     },
     "metadata": {}
    },
    {
     "output_type": "display_data",
     "data": {
      "text/plain": "married     2797\nsingle      1196\ndivorced     528\nName: marital, dtype: int64"
     },
     "metadata": {}
    }
   ],
   "source": [
    "\n",
    "df = imported_data.copy()\n",
    "display(df.poutcome.value_counts())\n",
    "display(df.contact.value_counts())\n",
    "display(df.education.value_counts())\n",
    "display(df.job.value_counts())\n",
    "display(df.marital.value_counts())"
   ]
  },
  {
   "cell_type": "code",
   "execution_count": 21,
   "metadata": {},
   "outputs": [
    {
     "output_type": "execute_result",
     "data": {
      "text/plain": [
       "unknown    3705\n",
       "failure     490\n",
       "other       197\n",
       "success     129\n",
       "Name: poutcome, dtype: int64"
      ]
     },
     "metadata": {},
     "execution_count": 21
    }
   ],
   "source": [
    "df.poutcome.value_counts()"
   ]
  },
  {
   "cell_type": "code",
   "execution_count": 4,
   "metadata": {},
   "outputs": [
    {
     "output_type": "execute_result",
     "data": {
      "text/plain": [
       "     age          job   marital  education  default  balance  housing  loan  \\\n",
       "49    61       admin.   married    unknown        0     4629        1     0   \n",
       "70    37   management   married   tertiary        0        0        0     0   \n",
       "98    36  blue-collar  divorced  secondary        0     2843        0     0   \n",
       "110   21      student    single  secondary        0     2488        0     0   \n",
       "156   55       admin.   married  secondary        0      602        0     0   \n",
       "\n",
       "      contact  day month  duration  campaign  pdays  previous poutcome  \\\n",
       "49   cellular   27   jan       181         1     92         1  success   \n",
       "70   cellular   16   jul       268         2    182         3  success   \n",
       "98   cellular   12   feb       473         1    182         1  success   \n",
       "110  cellular   30   jun       258         6    169         3  success   \n",
       "156  cellular    1   jun       324         3     90         2  success   \n",
       "\n",
       "     response  \n",
       "49          1  \n",
       "70          1  \n",
       "98          0  \n",
       "110         1  \n",
       "156         1  "
      ],
      "text/html": "<div>\n<style scoped>\n    .dataframe tbody tr th:only-of-type {\n        vertical-align: middle;\n    }\n\n    .dataframe tbody tr th {\n        vertical-align: top;\n    }\n\n    .dataframe thead th {\n        text-align: right;\n    }\n</style>\n<table border=\"1\" class=\"dataframe\">\n  <thead>\n    <tr style=\"text-align: right;\">\n      <th></th>\n      <th>age</th>\n      <th>job</th>\n      <th>marital</th>\n      <th>education</th>\n      <th>default</th>\n      <th>balance</th>\n      <th>housing</th>\n      <th>loan</th>\n      <th>contact</th>\n      <th>day</th>\n      <th>month</th>\n      <th>duration</th>\n      <th>campaign</th>\n      <th>pdays</th>\n      <th>previous</th>\n      <th>poutcome</th>\n      <th>response</th>\n    </tr>\n  </thead>\n  <tbody>\n    <tr>\n      <th>49</th>\n      <td>61</td>\n      <td>admin.</td>\n      <td>married</td>\n      <td>unknown</td>\n      <td>0</td>\n      <td>4629</td>\n      <td>1</td>\n      <td>0</td>\n      <td>cellular</td>\n      <td>27</td>\n      <td>jan</td>\n      <td>181</td>\n      <td>1</td>\n      <td>92</td>\n      <td>1</td>\n      <td>success</td>\n      <td>1</td>\n    </tr>\n    <tr>\n      <th>70</th>\n      <td>37</td>\n      <td>management</td>\n      <td>married</td>\n      <td>tertiary</td>\n      <td>0</td>\n      <td>0</td>\n      <td>0</td>\n      <td>0</td>\n      <td>cellular</td>\n      <td>16</td>\n      <td>jul</td>\n      <td>268</td>\n      <td>2</td>\n      <td>182</td>\n      <td>3</td>\n      <td>success</td>\n      <td>1</td>\n    </tr>\n    <tr>\n      <th>98</th>\n      <td>36</td>\n      <td>blue-collar</td>\n      <td>divorced</td>\n      <td>secondary</td>\n      <td>0</td>\n      <td>2843</td>\n      <td>0</td>\n      <td>0</td>\n      <td>cellular</td>\n      <td>12</td>\n      <td>feb</td>\n      <td>473</td>\n      <td>1</td>\n      <td>182</td>\n      <td>1</td>\n      <td>success</td>\n      <td>0</td>\n    </tr>\n    <tr>\n      <th>110</th>\n      <td>21</td>\n      <td>student</td>\n      <td>single</td>\n      <td>secondary</td>\n      <td>0</td>\n      <td>2488</td>\n      <td>0</td>\n      <td>0</td>\n      <td>cellular</td>\n      <td>30</td>\n      <td>jun</td>\n      <td>258</td>\n      <td>6</td>\n      <td>169</td>\n      <td>3</td>\n      <td>success</td>\n      <td>1</td>\n    </tr>\n    <tr>\n      <th>156</th>\n      <td>55</td>\n      <td>admin.</td>\n      <td>married</td>\n      <td>secondary</td>\n      <td>0</td>\n      <td>602</td>\n      <td>0</td>\n      <td>0</td>\n      <td>cellular</td>\n      <td>1</td>\n      <td>jun</td>\n      <td>324</td>\n      <td>3</td>\n      <td>90</td>\n      <td>2</td>\n      <td>success</td>\n      <td>1</td>\n    </tr>\n  </tbody>\n</table>\n</div>"
     },
     "metadata": {},
     "execution_count": 4
    }
   ],
   "source": [
    "#poutcome != response\n",
    "df[df.poutcome == 'success'].head()"
   ]
  },
  {
   "cell_type": "code",
   "execution_count": null,
   "metadata": {},
   "outputs": [],
   "source": []
  }
 ]
}